{
 "cells": [
  {
   "cell_type": "code",
   "execution_count": 1,
   "metadata": {},
   "outputs": [],
   "source": [
    "import numpy as np\n",
    "from typing import List\n",
    "import pandas as pd\n",
    "from sklearn.feature_extraction.text import TfidfVectorizer\n",
    "from nltk.stem.snowball import SnowballStemmer\n",
    "from nltk.tokenize import TweetTokenizer\n",
    "import re\n",
    "from scipy.spatial.distance import cosine\n",
    "import pickle\n",
    "import random\n",
    "from loss import *\n",
    "%run Experiment\n",
    "%run distances\n",
    "%run loss"
   ]
  },
  {
   "cell_type": "markdown",
   "metadata": {},
   "source": [
    "Спецификаторы:\n",
    "- Cos_Mean - Усреднение по всей цепочке функции косинусного расстояния до нового ообъекта\n",
    "- Cos_WMean - Экспоненциально взвешенное усреднение по всей цепочке функции косинусного расстояния до нового ообъекта\n",
    "- Cos_Min - Минимум косинусного расстояния по всем векторам из цепочки\n",
    "- Cos_Last - Косинусное расстояние до последнего вектора из цепочки\n",
    "\n",
    "- Euc_Mean - Усреднение по всей цепочке функции евклидового расстояния до нового ообъекта\n",
    "- Euc_WMean - Экспоненциально взвешенное усреднение по всей цепочке функции евклидового расстояния до нового ообъекта\n",
    "- Euc_Min - Минимум евклидового расстояния по всем векторам из цепочки\n",
    "- Euc_Last - Евклидово расстояние до последнего вектора из цепочки\n",
    "\n",
    "- Man_Mean - Усреднение по всей цепочке функции манхеттенского расстояния до нового ообъекта\n",
    "- Man_WMean - Экспоненциально взвешенное усреднение по всей цепочке функции манхеттенского расстояния до нового ообъекта\n",
    "- Man_Min - Минимум манхеттенского расстояния по всем векторам из цепочки\n",
    "- Man_Last - Манхетенское расстояние до последнего вектора из цепочки\n",
    "\n",
    "- KL_Mean - Усреднение по всей цепочке функции дивергенции KL до нового ообъекта\n",
    "- KL_WMean - Экспоненциально взвешенное усреднение по всей цепочке дивергенции KL до нового ообъекта\n",
    "- KL_Min - Минимум дивергенции KL по всем векторам из цепочки\n",
    "- KL_Last - Дивергенция KL расстояние до последнего вектора из цепочки"
   ]
  },
  {
   "cell_type": "code",
   "execution_count": 2,
   "metadata": {},
   "outputs": [
    {
     "name": "stderr",
     "output_type": "stream",
     "text": [
      "C:\\Users\\Sergei\\anaconda3\\lib\\site-packages\\sklearn\\feature_extraction\\text.py:484: UserWarning: The parameter 'token_pattern' will not be used since 'tokenizer' is not None'\n",
      "  warnings.warn(\"The parameter 'token_pattern' will not be used\"\n"
     ]
    },
    {
     "data": {
      "text/plain": [
       "TfidfVectorizer(max_df=0.3, min_df=3,\n",
       "                tokenizer=<function <lambda> at 0x0000022A3E88A820>)"
      ]
     },
     "execution_count": 2,
     "metadata": {},
     "output_type": "execute_result"
    }
   ],
   "source": [
    "data = pd.read_csv('../data/Data_event_detect.csv')\n",
    "data['text'] = data['text'].fillna('')\n",
    "\n",
    "stemmer = SnowballStemmer('russian')\n",
    "tokenizer = TweetTokenizer()\n",
    "\n",
    "tfidf = TfidfVectorizer(max_df=0.3,\n",
    "                        min_df=3,\n",
    "                       tokenizer=lambda text: stemm_tokenizer(text, stemmer, tokenizer).split())\n",
    "\n",
    "\n",
    "tfidf.fit(data.text.dropna())"
   ]
  },
  {
   "cell_type": "code",
   "execution_count": 3,
   "metadata": {},
   "outputs": [],
   "source": [
    "comm_res = pd.read_csv('../data/toloka_result_pairs.csv')\n",
    "\n",
    "valid_inds = np.union1d(comm_res['new_1'].values,comm_res['new_2'].values)\n",
    "\n",
    "comm_res = comm_res.groupby(['new_1','new_2']).max()\n",
    "\n",
    "data = pd.read_csv('../data/test_data.csv')\n",
    "\n",
    "data = data[~data['text'].isna()]\n",
    "\n",
    "test_table = pd.read_csv('../data/test_data.csv')"
   ]
  },
  {
   "cell_type": "code",
   "execution_count": 4,
   "metadata": {},
   "outputs": [],
   "source": [
    "myexp =  MyExperiment(test_table.loc[valid_inds], tfidf, 'Cos_Last',0.9)"
   ]
  },
  {
   "cell_type": "code",
   "execution_count": null,
   "metadata": {},
   "outputs": [],
   "source": [
    "myexp.run()"
   ]
  },
  {
   "cell_type": "code",
   "execution_count": null,
   "metadata": {},
   "outputs": [],
   "source": [
    "pr,rec = chain_quality(comm_res,myexp.result['Chains'])"
   ]
  },
  {
   "cell_type": "code",
   "execution_count": null,
   "metadata": {},
   "outputs": [],
   "source": []
  }
 ],
 "metadata": {
  "kernelspec": {
   "display_name": "Python 3",
   "language": "python",
   "name": "python3"
  },
  "language_info": {
   "codemirror_mode": {
    "name": "ipython",
    "version": 3
   },
   "file_extension": ".py",
   "mimetype": "text/x-python",
   "name": "python",
   "nbconvert_exporter": "python",
   "pygments_lexer": "ipython3",
   "version": "3.8.5"
  }
 },
 "nbformat": 4,
 "nbformat_minor": 4
}
